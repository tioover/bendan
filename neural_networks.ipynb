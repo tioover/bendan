{
 "cells": [
  {
   "cell_type": "code",
   "execution_count": 1,
   "metadata": {
    "collapsed": false,
    "deletable": true,
    "editable": true
   },
   "outputs": [],
   "source": [
    "import numpy as np\n",
    "from neural_networks import NeuralNetwork\n",
    "from data import watermelon_3_0_alpha"
   ]
  },
  {
   "cell_type": "code",
   "execution_count": 2,
   "metadata": {
    "collapsed": false,
    "deletable": true,
    "editable": true
   },
   "outputs": [
    {
     "data": {
      "text/plain": [
       "17"
      ]
     },
     "execution_count": 2,
     "metadata": {},
     "output_type": "execute_result"
    }
   ],
   "source": [
    "data = watermelon_3_0_alpha()\n",
    "len(data)"
   ]
  },
  {
   "cell_type": "code",
   "execution_count": 3,
   "metadata": {
    "collapsed": false,
    "deletable": true,
    "editable": true
   },
   "outputs": [],
   "source": [
    "nn = NeuralNetwork(0.2, 2, 3, 2)"
   ]
  },
  {
   "cell_type": "code",
   "execution_count": 4,
   "metadata": {
    "collapsed": true,
    "deletable": true,
    "editable": true
   },
   "outputs": [],
   "source": [
    "idx = np.random.randint(len(data), size=14)"
   ]
  },
  {
   "cell_type": "code",
   "execution_count": 5,
   "metadata": {
    "collapsed": false,
    "deletable": true,
    "editable": true
   },
   "outputs": [
    {
     "data": {
      "text/plain": [
       "array([[ 0.36 ,  0.37 ,  0.   ,  1.   ],\n",
       "       [ 0.608,  0.318,  1.   ,  0.   ],\n",
       "       [ 0.481,  0.149,  1.   ,  0.   ],\n",
       "       [ 0.403,  0.237,  1.   ,  0.   ],\n",
       "       [ 0.639,  0.161,  0.   ,  1.   ],\n",
       "       [ 0.481,  0.149,  1.   ,  0.   ],\n",
       "       [ 0.593,  0.042,  0.   ,  1.   ],\n",
       "       [ 0.593,  0.042,  0.   ,  1.   ],\n",
       "       [ 0.657,  0.198,  0.   ,  1.   ],\n",
       "       [ 0.556,  0.215,  1.   ,  0.   ],\n",
       "       [ 0.243,  0.267,  0.   ,  1.   ],\n",
       "       [ 0.634,  0.264,  1.   ,  0.   ],\n",
       "       [ 0.666,  0.091,  0.   ,  1.   ],\n",
       "       [ 0.639,  0.161,  0.   ,  1.   ]])"
      ]
     },
     "execution_count": 5,
     "metadata": {},
     "output_type": "execute_result"
    }
   ],
   "source": [
    "train_set = data[idx]\n",
    "train_set"
   ]
  },
  {
   "cell_type": "code",
   "execution_count": 6,
   "metadata": {
    "collapsed": false,
    "deletable": true,
    "editable": true
   },
   "outputs": [],
   "source": [
    "for _ in range(20000):\n",
    "    nn.train(train_set)"
   ]
  },
  {
   "cell_type": "code",
   "execution_count": 7,
   "metadata": {
    "collapsed": false,
    "deletable": true,
    "editable": true
   },
   "outputs": [
    {
     "data": {
      "text/plain": [
       "array([[ 0.697,  0.46 ,  1.   ,  0.   ],\n",
       "       [ 0.774,  0.376,  1.   ,  0.   ],\n",
       "       [ 0.437,  0.211,  1.   ,  0.   ],\n",
       "       [ 0.245,  0.057,  0.   ,  1.   ],\n",
       "       [ 0.343,  0.099,  0.   ,  1.   ],\n",
       "       [ 0.719,  0.103,  0.   ,  1.   ]])"
      ]
     },
     "execution_count": 7,
     "metadata": {},
     "output_type": "execute_result"
    }
   ],
   "source": [
    "test_set = np.delete(data, idx, 0)\n",
    "test_set"
   ]
  },
  {
   "cell_type": "code",
   "execution_count": 8,
   "metadata": {
    "collapsed": false,
    "deletable": true,
    "editable": true,
    "scrolled": true
   },
   "outputs": [
    {
     "name": "stdout",
     "output_type": "stream",
     "text": [
      "diff: [-0.0340, 0.0342] real: [0.0000, 1.0000] output: [0.0340, 0.9658]\n",
      "diff: [0.0033, -0.0033] real: [1.0000, 0.0000] output: [0.9967, 0.0033]\n",
      "diff: [0.0105, -0.0107] real: [1.0000, 0.0000] output: [0.9895, 0.0107]\n",
      "diff: [0.0287, -0.0288] real: [1.0000, 0.0000] output: [0.9713, 0.0288]\n",
      "diff: [-0.0142, 0.0142] real: [0.0000, 1.0000] output: [0.0142, 0.9858]\n",
      "diff: [0.0105, -0.0107] real: [1.0000, 0.0000] output: [0.9895, 0.0107]\n",
      "diff: [-0.0020, 0.0019] real: [0.0000, 1.0000] output: [0.0020, 0.9981]\n",
      "diff: [-0.0020, 0.0019] real: [0.0000, 1.0000] output: [0.0020, 0.9981]\n",
      "diff: [-0.0402, 0.0403] real: [0.0000, 1.0000] output: [0.0402, 0.9597]\n",
      "diff: [0.0121, -0.0122] real: [1.0000, 0.0000] output: [0.9879, 0.0122]\n",
      "diff: [-0.0169, 0.0169] real: [0.0000, 1.0000] output: [0.0169, 0.9831]\n",
      "diff: [0.0406, -0.0406] real: [1.0000, 0.0000] output: [0.9594, 0.0406]\n",
      "diff: [-0.0017, 0.0017] real: [0.0000, 1.0000] output: [0.0017, 0.9983]\n",
      "diff: [-0.0142, 0.0142] real: [0.0000, 1.0000] output: [0.0142, 0.9858]\n"
     ]
    }
   ],
   "source": [
    "def lookup(dataset):\n",
    "    for row in dataset:\n",
    "        y = nn.output(row[:-2])\n",
    "\n",
    "        print(\"diff: [%.4f, %.4f] real: [%.4f, %.4f] output: [%.4f, %.4f]\" % (row[-2] - y[0], row[-1] - y[1], row[-2], row[-1], y[0], y[1]))\n",
    "\n",
    "lookup(train_set)"
   ]
  },
  {
   "cell_type": "code",
   "execution_count": 22,
   "metadata": {
    "collapsed": false,
    "deletable": true,
    "editable": true
   },
   "outputs": [
    {
     "name": "stdout",
     "output_type": "stream",
     "text": [
      "diff: [0.0000, -0.0000] real: [1.0000, 0.0000] output: [1.0000, 0.0000]\n",
      "diff: [0.0000, -0.0000] real: [1.0000, 0.0000] output: [1.0000, 0.0000]\n",
      "diff: [0.0000, -0.0000] real: [1.0000, 0.0000] output: [1.0000, 0.0000]\n",
      "diff: [-0.0000, 0.0000] real: [0.0000, 1.0000] output: [0.0000, 1.0000]\n",
      "diff: [-0.1041, 0.1039] real: [0.0000, 1.0000] output: [0.1041, 0.8961]\n",
      "diff: [-0.0016, 0.0015] real: [0.0000, 1.0000] output: [0.0016, 0.9985]\n",
      "diff: [-0.0000, 0.0000] real: [0.0000, 1.0000] output: [0.0000, 1.0000]\n"
     ]
    }
   ],
   "source": [
    "lookup(test_set)"
   ]
  },
  {
   "cell_type": "code",
   "execution_count": null,
   "metadata": {
    "collapsed": true,
    "deletable": true,
    "editable": true
   },
   "outputs": [],
   "source": []
  }
 ],
 "metadata": {
  "kernelspec": {
   "display_name": "Python 3",
   "language": "python",
   "name": "python3"
  },
  "language_info": {
   "codemirror_mode": {
    "name": "ipython",
    "version": 3
   },
   "file_extension": ".py",
   "mimetype": "text/x-python",
   "name": "python",
   "nbconvert_exporter": "python",
   "pygments_lexer": "ipython3",
   "version": "3.6.1"
  }
 },
 "nbformat": 4,
 "nbformat_minor": 2
}
