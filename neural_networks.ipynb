{
 "cells": [
  {
   "cell_type": "code",
   "execution_count": 1,
   "metadata": {
    "collapsed": false,
    "deletable": true,
    "editable": true
   },
   "outputs": [],
   "source": [
    "import numpy as np\n",
    "from neural_networks import NeuralNetwork\n",
    "from data import watermelon_3_0_alpha"
   ]
  },
  {
   "cell_type": "code",
   "execution_count": 2,
   "metadata": {
    "collapsed": false,
    "deletable": true,
    "editable": true
   },
   "outputs": [
    {
     "data": {
      "text/plain": [
       "17"
      ]
     },
     "execution_count": 2,
     "metadata": {},
     "output_type": "execute_result"
    }
   ],
   "source": [
    "data = watermelon_3_0_alpha()\n",
    "len(data)"
   ]
  },
  {
   "cell_type": "code",
   "execution_count": 3,
   "metadata": {
    "collapsed": false,
    "deletable": true,
    "editable": true
   },
   "outputs": [],
   "source": [
    "nn = NeuralNetwork(0.15, 2, 2, 1)"
   ]
  },
  {
   "cell_type": "code",
   "execution_count": 4,
   "metadata": {
    "collapsed": true,
    "deletable": true,
    "editable": true
   },
   "outputs": [],
   "source": [
    "idx = np.random.randint(len(data), size=14)"
   ]
  },
  {
   "cell_type": "code",
   "execution_count": 5,
   "metadata": {
    "collapsed": false,
    "deletable": true,
    "editable": true
   },
   "outputs": [
    {
     "data": {
      "text/plain": [
       "array([[ 0.657,  0.198,  0.   ],\n",
       "       [ 0.639,  0.161,  0.   ],\n",
       "       [ 0.556,  0.215,  1.   ],\n",
       "       [ 0.403,  0.237,  1.   ],\n",
       "       [ 0.593,  0.042,  0.   ],\n",
       "       [ 0.481,  0.149,  1.   ],\n",
       "       [ 0.608,  0.318,  1.   ],\n",
       "       [ 0.403,  0.237,  1.   ],\n",
       "       [ 0.634,  0.264,  1.   ],\n",
       "       [ 0.634,  0.264,  1.   ],\n",
       "       [ 0.243,  0.267,  0.   ],\n",
       "       [ 0.245,  0.057,  0.   ],\n",
       "       [ 0.403,  0.237,  1.   ],\n",
       "       [ 0.634,  0.264,  1.   ]])"
      ]
     },
     "execution_count": 5,
     "metadata": {},
     "output_type": "execute_result"
    }
   ],
   "source": [
    "train_set = data[idx]\n",
    "train_set"
   ]
  },
  {
   "cell_type": "code",
   "execution_count": 9,
   "metadata": {
    "collapsed": false,
    "deletable": true,
    "editable": true
   },
   "outputs": [],
   "source": [
    "for _ in range(10000):\n",
    "    nn.train(train_set)"
   ]
  },
  {
   "cell_type": "code",
   "execution_count": 7,
   "metadata": {
    "collapsed": false,
    "deletable": true,
    "editable": true
   },
   "outputs": [
    {
     "data": {
      "text/plain": [
       "array([[ 0.697,  0.46 ,  1.   ],\n",
       "       [ 0.774,  0.376,  1.   ],\n",
       "       [ 0.437,  0.211,  1.   ],\n",
       "       [ 0.666,  0.091,  0.   ],\n",
       "       [ 0.343,  0.099,  0.   ],\n",
       "       [ 0.36 ,  0.37 ,  0.   ],\n",
       "       [ 0.719,  0.103,  0.   ]])"
      ]
     },
     "execution_count": 7,
     "metadata": {},
     "output_type": "execute_result"
    }
   ],
   "source": [
    "test_set = np.delete(data, idx, 0)\n",
    "test_set"
   ]
  },
  {
   "cell_type": "code",
   "execution_count": 10,
   "metadata": {
    "collapsed": false,
    "deletable": true,
    "editable": true,
    "scrolled": true
   },
   "outputs": [
    {
     "name": "stdout",
     "output_type": "stream",
     "text": [
      "[ 0.99999998]\n",
      "[ 0.99999983]\n",
      "[ 0.99999213]\n",
      "[  8.19270960e-06]\n",
      "[ 0.52489365]\n",
      "[ 0.99999998]\n",
      "[  6.56289258e-06]\n"
     ]
    }
   ],
   "source": [
    "for row in test_set:\n",
    "    _, y = nn.output(row[:-1])\n",
    "    print(y)"
   ]
  },
  {
   "cell_type": "code",
   "execution_count": null,
   "metadata": {
    "collapsed": true
   },
   "outputs": [],
   "source": []
  }
 ],
 "metadata": {
  "kernelspec": {
   "display_name": "Python 3",
   "language": "python",
   "name": "python3"
  },
  "language_info": {
   "codemirror_mode": {
    "name": "ipython",
    "version": 3
   },
   "file_extension": ".py",
   "mimetype": "text/x-python",
   "name": "python",
   "nbconvert_exporter": "python",
   "pygments_lexer": "ipython3",
   "version": "3.6.1"
  }
 },
 "nbformat": 4,
 "nbformat_minor": 2
}
