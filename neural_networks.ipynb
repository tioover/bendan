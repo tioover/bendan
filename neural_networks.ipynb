{
 "cells": [
  {
   "cell_type": "code",
   "execution_count": 1,
   "metadata": {
    "collapsed": false,
    "deletable": true,
    "editable": true
   },
   "outputs": [],
   "source": [
    "import numpy as np\n",
    "from neural_networks import NeuralNetwork\n",
    "from neural_networks_run import xor_network\n",
    "from data import watermelon_3_0_alpha\n",
    "from utils import step, vector_step"
   ]
  },
  {
   "cell_type": "markdown",
   "metadata": {},
   "source": [
    "# XOR"
   ]
  },
  {
   "cell_type": "code",
   "execution_count": 2,
   "metadata": {
    "collapsed": true
   },
   "outputs": [],
   "source": [
    "xornet = xor_network()\n",
    "xor = lambda x, y: step(xornet.output([x, y]))"
   ]
  },
  {
   "cell_type": "code",
   "execution_count": 3,
   "metadata": {
    "collapsed": false
   },
   "outputs": [
    {
     "data": {
      "text/plain": [
       "0.0"
      ]
     },
     "execution_count": 3,
     "metadata": {},
     "output_type": "execute_result"
    }
   ],
   "source": [
    "xor(1.0, 1.0)"
   ]
  },
  {
   "cell_type": "code",
   "execution_count": 4,
   "metadata": {
    "collapsed": false
   },
   "outputs": [
    {
     "data": {
      "text/plain": [
       "1.0"
      ]
     },
     "execution_count": 4,
     "metadata": {},
     "output_type": "execute_result"
    }
   ],
   "source": [
    "xor(0.0, 1.0)"
   ]
  },
  {
   "cell_type": "code",
   "execution_count": 5,
   "metadata": {
    "collapsed": false
   },
   "outputs": [
    {
     "data": {
      "text/plain": [
       "0.0"
      ]
     },
     "execution_count": 5,
     "metadata": {},
     "output_type": "execute_result"
    }
   ],
   "source": [
    "xor(0.0, 0.0)"
   ]
  },
  {
   "cell_type": "code",
   "execution_count": 6,
   "metadata": {
    "collapsed": false
   },
   "outputs": [
    {
     "data": {
      "text/plain": [
       "1.0"
      ]
     },
     "execution_count": 6,
     "metadata": {},
     "output_type": "execute_result"
    }
   ],
   "source": [
    "xor(1.0, 0.0)"
   ]
  },
  {
   "cell_type": "markdown",
   "metadata": {},
   "source": [
    "# 好瓜坏瓜分类"
   ]
  },
  {
   "cell_type": "code",
   "execution_count": 7,
   "metadata": {
    "collapsed": false,
    "deletable": true,
    "editable": true
   },
   "outputs": [
    {
     "data": {
      "text/plain": [
       "17"
      ]
     },
     "execution_count": 7,
     "metadata": {},
     "output_type": "execute_result"
    }
   ],
   "source": [
    "data = watermelon_3_0_alpha()\n",
    "len(data)"
   ]
  },
  {
   "cell_type": "code",
   "execution_count": 8,
   "metadata": {
    "collapsed": false,
    "deletable": true,
    "editable": true
   },
   "outputs": [],
   "source": [
    "nn = NeuralNetwork(0.25, 2, 3, 2)"
   ]
  },
  {
   "cell_type": "code",
   "execution_count": 9,
   "metadata": {
    "collapsed": true,
    "deletable": true,
    "editable": true
   },
   "outputs": [],
   "source": [
    "idx = np.random.randint(len(data), size=14)"
   ]
  },
  {
   "cell_type": "code",
   "execution_count": 10,
   "metadata": {
    "collapsed": false,
    "deletable": true,
    "editable": true
   },
   "outputs": [
    {
     "data": {
      "text/plain": [
       "array([[ 0.245,  0.057,  0.   ,  1.   ],\n",
       "       [ 0.556,  0.215,  1.   ,  0.   ],\n",
       "       [ 0.639,  0.161,  0.   ,  1.   ],\n",
       "       [ 0.36 ,  0.37 ,  0.   ,  1.   ],\n",
       "       [ 0.437,  0.211,  1.   ,  0.   ],\n",
       "       [ 0.719,  0.103,  0.   ,  1.   ],\n",
       "       [ 0.437,  0.211,  1.   ,  0.   ],\n",
       "       [ 0.481,  0.149,  1.   ,  0.   ],\n",
       "       [ 0.593,  0.042,  0.   ,  1.   ],\n",
       "       [ 0.36 ,  0.37 ,  0.   ,  1.   ],\n",
       "       [ 0.245,  0.057,  0.   ,  1.   ],\n",
       "       [ 0.556,  0.215,  1.   ,  0.   ],\n",
       "       [ 0.437,  0.211,  1.   ,  0.   ],\n",
       "       [ 0.774,  0.376,  1.   ,  0.   ]])"
      ]
     },
     "execution_count": 10,
     "metadata": {},
     "output_type": "execute_result"
    }
   ],
   "source": [
    "train_set = data[idx]\n",
    "train_set"
   ]
  },
  {
   "cell_type": "code",
   "execution_count": 11,
   "metadata": {
    "collapsed": false,
    "deletable": true,
    "editable": true
   },
   "outputs": [],
   "source": [
    "for _ in range(40000):\n",
    "    nn.train(train_set)"
   ]
  },
  {
   "cell_type": "code",
   "execution_count": 12,
   "metadata": {
    "collapsed": false,
    "deletable": true,
    "editable": true
   },
   "outputs": [
    {
     "data": {
      "text/plain": [
       "array([[ 0.697,  0.46 ,  1.   ,  0.   ],\n",
       "       [ 0.634,  0.264,  1.   ,  0.   ],\n",
       "       [ 0.608,  0.318,  1.   ,  0.   ],\n",
       "       [ 0.403,  0.237,  1.   ,  0.   ],\n",
       "       [ 0.666,  0.091,  0.   ,  1.   ],\n",
       "       [ 0.243,  0.267,  0.   ,  1.   ],\n",
       "       [ 0.343,  0.099,  0.   ,  1.   ],\n",
       "       [ 0.657,  0.198,  0.   ,  1.   ]])"
      ]
     },
     "execution_count": 12,
     "metadata": {},
     "output_type": "execute_result"
    }
   ],
   "source": [
    "test_set = np.delete(data, idx, 0)\n",
    "test_set"
   ]
  },
  {
   "cell_type": "code",
   "execution_count": 13,
   "metadata": {
    "collapsed": false,
    "deletable": true,
    "editable": true,
    "scrolled": true
   },
   "outputs": [
    {
     "name": "stdout",
     "output_type": "stream",
     "text": [
      "real: [0.0000, 1.0000] output: [0.0000, 1.0000]\n",
      "real: [1.0000, 0.0000] output: [1.0000, 0.0000]\n",
      "real: [0.0000, 1.0000] output: [0.0000, 1.0000]\n",
      "real: [0.0000, 1.0000] output: [0.0000, 1.0000]\n",
      "real: [1.0000, 0.0000] output: [1.0000, 0.0000]\n",
      "real: [0.0000, 1.0000] output: [0.0000, 1.0000]\n",
      "real: [1.0000, 0.0000] output: [1.0000, 0.0000]\n",
      "real: [1.0000, 0.0000] output: [1.0000, 0.0000]\n",
      "real: [0.0000, 1.0000] output: [0.0000, 1.0000]\n",
      "real: [0.0000, 1.0000] output: [0.0000, 1.0000]\n",
      "real: [0.0000, 1.0000] output: [0.0000, 1.0000]\n",
      "real: [1.0000, 0.0000] output: [1.0000, 0.0000]\n",
      "real: [1.0000, 0.0000] output: [1.0000, 0.0000]\n",
      "real: [1.0000, 0.0000] output: [1.0000, 0.0000]\n"
     ]
    }
   ],
   "source": [
    "def lookup(dataset):\n",
    "    for row in dataset:\n",
    "        y = vector_step(nn.output(row[:-2]))\n",
    "        print(\"real: [%.4f, %.4f] output: [%.4f, %.4f]\" % (row[-2], row[-1], y[0], y[1]))\n",
    "        if (row[-2:] != y).any():\n",
    "            print(\"ERROR ^\")\n",
    "\n",
    "lookup(train_set)"
   ]
  },
  {
   "cell_type": "code",
   "execution_count": 14,
   "metadata": {
    "collapsed": false,
    "deletable": true,
    "editable": true
   },
   "outputs": [
    {
     "name": "stdout",
     "output_type": "stream",
     "text": [
      "real: [1.0000, 0.0000] output: [1.0000, 0.0000]\n",
      "real: [1.0000, 0.0000] output: [1.0000, 0.0000]\n",
      "real: [1.0000, 0.0000] output: [1.0000, 0.0000]\n",
      "real: [1.0000, 0.0000] output: [1.0000, 0.0000]\n",
      "real: [0.0000, 1.0000] output: [0.0000, 1.0000]\n",
      "real: [0.0000, 1.0000] output: [0.0000, 1.0000]\n",
      "real: [0.0000, 1.0000] output: [1.0000, 0.0000]\n",
      "ERROR ^\n",
      "real: [0.0000, 1.0000] output: [0.0000, 1.0000]\n"
     ]
    }
   ],
   "source": [
    "lookup(test_set)"
   ]
  }
 ],
 "metadata": {
  "kernelspec": {
   "display_name": "Python 3",
   "language": "python",
   "name": "python3"
  },
  "language_info": {
   "codemirror_mode": {
    "name": "ipython",
    "version": 3
   },
   "file_extension": ".py",
   "mimetype": "text/x-python",
   "name": "python",
   "nbconvert_exporter": "python",
   "pygments_lexer": "ipython3",
   "version": "3.6.1"
  }
 },
 "nbformat": 4,
 "nbformat_minor": 2
}
